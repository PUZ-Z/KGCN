{
 "cells": [
  {
   "cell_type": "markdown",
   "metadata": {},
   "source": [
    "# MovieLense 20M"
   ]
  },
  {
   "cell_type": "code",
   "execution_count": 65,
   "metadata": {},
   "outputs": [
    {
     "name": "stdout",
     "output_type": "stream",
     "text": [
      "ratings: (20000263, 4)\n",
      "movies: (27278, 3)\n"
     ]
    }
   ],
   "source": [
    "import pandas as pd\n",
    "\n",
    "ratings = pd.read_csv(\"data/ratings.csv\")\n",
    "movies = pd.read_csv(\"data/movies.csv\")\n",
    "\n",
    "print(\"ratings:\", ratings.shape)\n",
    "print(\"movies:\", movies.shape)"
   ]
  },
  {
   "cell_type": "code",
   "execution_count": 66,
   "metadata": {},
   "outputs": [],
   "source": [
    "def filter_interactions(df, min_user_inter=20, min_item_inter=20):\n",
    "    while True:\n",
    "        user_counts = df['userId'].value_counts()\n",
    "        df = df[df['userId'].isin(user_counts[user_counts >= min_user_inter].index)]\n",
    "\n",
    "        item_counts = df['movieId'].value_counts()\n",
    "        df = df[df['movieId'].isin(item_counts[item_counts >= min_item_inter].index)]\n",
    "\n",
    "        if (\n",
    "            (df['userId'].value_counts() >= min_user_inter).all()\n",
    "            and (df['movieId'].value_counts() >= min_item_inter).all()\n",
    "        ):\n",
    "            break\n",
    "    return df\n"
   ]
  },
  {
   "cell_type": "code",
   "execution_count": 67,
   "metadata": {},
   "outputs": [
    {
     "name": "stdout",
     "output_type": "stream",
     "text": [
      "Number of users: 138408\n",
      "Number of items: 13130\n",
      "Interactions: 19931488\n",
      "Min user interactions: 20\n",
      "Min item interactions: 20\n"
     ]
    }
   ],
   "source": [
    "# 평점 → label\n",
    "ratings['label'] = (ratings['rating'] >= 4.0).astype(int)\n",
    "interactions = ratings[['userId', 'movieId', 'label']]\n",
    "\n",
    "# 논문 기준 필터링\n",
    "interactions = filter_interactions(interactions)\n",
    "\n",
    "# 인덱싱\n",
    "user2id = {uid: idx for idx, uid in enumerate(interactions['userId'].unique())}\n",
    "item2id = {iid: idx for idx, iid in enumerate(interactions['movieId'].unique())}\n",
    "\n",
    "interactions['user'] = interactions['userId'].map(user2id)\n",
    "interactions['item'] = interactions['movieId'].map(item2id)\n",
    "\n",
    "# 확인\n",
    "print(\"Number of users:\", len(user2id))\n",
    "print(\"Number of items:\", len(item2id))\n",
    "print(\"Interactions:\", len(interactions))\n",
    "print(\"Min user interactions:\", interactions['user'].value_counts().min())\n",
    "print(\"Min item interactions:\", interactions['item'].value_counts().min())\n"
   ]
  },
  {
   "cell_type": "code",
   "execution_count": 69,
   "metadata": {},
   "outputs": [],
   "source": [
    "def build_kg(movies_df, item2id):\n",
    "    kg = []\n",
    "    entity2id = {}\n",
    "    relation2id = {\"has_genre\": 0, \"released_in\": 1}\n",
    "    entity_counter = 0\n",
    "\n",
    "    for _, row in movies_df.iterrows():\n",
    "        movie_id = row['movieId']\n",
    "        if movie_id not in item2id:\n",
    "            continue  # 필터링된 아이템만 사용\n",
    "\n",
    "        h = item2id[movie_id]\n",
    "\n",
    "        # 장르 정보 처리\n",
    "        genres = row['genres'].split('|') if pd.notnull(row['genres']) else []\n",
    "        for g in genres:\n",
    "            if g not in entity2id:\n",
    "                entity2id[g] = entity_counter\n",
    "                entity_counter += 1\n",
    "            t = entity2id[g]\n",
    "            kg.append((h, relation2id['has_genre'], t))\n",
    "\n",
    "        # 출시 연도 추출\n",
    "        if '(' in row['title'] and ')' in row['title']:\n",
    "            try:\n",
    "                year = row['title'].split('(')[-1].split(')')[0]\n",
    "                if year.isdigit():\n",
    "                    if year not in entity2id:\n",
    "                        entity2id[year] = entity_counter\n",
    "                        entity_counter += 1\n",
    "                    t = entity2id[year]\n",
    "                    kg.append((h, relation2id['released_in'], t))\n",
    "            except:\n",
    "                continue\n",
    "\n",
    "    return kg, entity2id, relation2id\n"
   ]
  },
  {
   "cell_type": "code",
   "execution_count": 70,
   "metadata": {},
   "outputs": [
    {
     "name": "stdout",
     "output_type": "stream",
     "text": [
      "Number of KG triples: 41327\n",
      "Number of entities: 123\n",
      "Relations: {'has_genre': 0, 'released_in': 1}\n"
     ]
    }
   ],
   "source": [
    "kg_triples, entity2id, relation2id = build_kg(movies, item2id)\n",
    "\n",
    "print(\"Number of KG triples:\", len(kg_triples))\n",
    "print(\"Number of entities:\", len(entity2id))\n",
    "print(\"Relations:\", relation2id)"
   ]
  },
  {
   "cell_type": "code",
   "execution_count": 71,
   "metadata": {},
   "outputs": [
    {
     "name": "stdout",
     "output_type": "stream",
     "text": [
      "저장 완료\n"
     ]
    }
   ],
   "source": [
    "import os\n",
    "import pickle\n",
    "\n",
    "# 저장할 폴더 생성\n",
    "os.makedirs(\"data/processed\", exist_ok=True)\n",
    "\n",
    "# interactions 저장\n",
    "interactions[['user', 'item', 'label']].to_csv(\"data/processed/interactions.csv\", index=False)\n",
    "\n",
    "# KG triples 저장\n",
    "with open(\"data/processed/kg_triples.pkl\", \"wb\") as f:\n",
    "    pickle.dump(kg_triples, f)\n",
    "\n",
    "# 매핑 정보 저장\n",
    "with open(\"data/processed/user2id.pkl\", \"wb\") as f:\n",
    "    pickle.dump(user2id, f)\n",
    "\n",
    "with open(\"data/processed/item2id.pkl\", \"wb\") as f:\n",
    "    pickle.dump(item2id, f)\n",
    "\n",
    "with open(\"data/processed/entity2id.pkl\", \"wb\") as f:\n",
    "    pickle.dump(entity2id, f)\n",
    "\n",
    "with open(\"data/processed/relation2id.pkl\", \"wb\") as f:\n",
    "    pickle.dump(relation2id, f)\n",
    "\n",
    "print(\"저장 완료\")"
   ]
  }
 ],
 "metadata": {
  "kernelspec": {
   "display_name": "torch-gpu",
   "language": "python",
   "name": "python3"
  },
  "language_info": {
   "codemirror_mode": {
    "name": "ipython",
    "version": 3
   },
   "file_extension": ".py",
   "mimetype": "text/x-python",
   "name": "python",
   "nbconvert_exporter": "python",
   "pygments_lexer": "ipython3",
   "version": "3.12.2"
  }
 },
 "nbformat": 4,
 "nbformat_minor": 2
}
